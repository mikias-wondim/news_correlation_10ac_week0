{
  "nbformat": 4,
  "nbformat_minor": 0,
  "metadata": {
    "colab": {
      "provenance": [],
      "mount_file_id": "13Pf0uiNVe50VtGFlj0FjxP3ChanXhKlC",
      "authorship_tag": "ABX9TyOhP5yj47Lng+eS38pu1H9r",
      "include_colab_link": true
    },
    "kernelspec": {
      "name": "python3",
      "display_name": "Python 3"
    },
    "language_info": {
      "name": "python"
    }
  },
  "cells": [
    {
      "cell_type": "markdown",
      "metadata": {
        "id": "view-in-github",
        "colab_type": "text"
      },
      "source": [
        "<a href=\"https://colab.research.google.com/github/mikias-wondim/news_correlation_10ac_week0/blob/task-1/notebooks/w0_d1_new_correlation_eda_and_stats.ipynb\" target=\"_parent\"><img src=\"https://colab.research.google.com/assets/colab-badge.svg\" alt=\"Open In Colab\"/></a>"
      ]
    },
    {
      "cell_type": "markdown",
      "source": [
        "# EDA on Global News Data"
      ],
      "metadata": {
        "id": "waz-Jpg-BgVL"
      }
    },
    {
      "cell_type": "markdown",
      "source": [
        "### Setting up our enviroments"
      ],
      "metadata": {
        "id": "6ZoYy99IBlJM"
      }
    },
    {
      "cell_type": "code",
      "execution_count": null,
      "metadata": {
        "id": "ZyzDRz671u0J"
      },
      "outputs": [],
      "source": [
        "# install miniconda\n",
        "!wget https://repo.anaconda.com/miniconda/Miniconda3-latest-Linux-x86_64.sh\n",
        "!bash Miniconda3-latest-Linux-x86_64.sh -bfp /usr/local"
      ]
    },
    {
      "cell_type": "code",
      "source": [
        "# update conda into current version\n",
        "!conda update -n base -c defaults conda -y"
      ],
      "metadata": {
        "id": "Pb7516Fk4Fzf"
      },
      "execution_count": null,
      "outputs": []
    },
    {
      "cell_type": "code",
      "source": [
        "# Creating an environment named 'myenv' with specific python version(3.12)\n",
        "!conda init\n",
        "!conda create -n myenv python=3.1 -y\n",
        "!conda activate myenv"
      ],
      "metadata": {
        "id": "bT5HeSpk4Xj9"
      },
      "execution_count": null,
      "outputs": []
    },
    {
      "cell_type": "markdown",
      "source": [
        "### Clone the starter pack"
      ],
      "metadata": {
        "id": "rBn0VDDyBqSw"
      }
    },
    {
      "cell_type": "code",
      "source": [
        "# Clone the startes python pack and cd into the folder\n",
        "#!git clone https://github.com/10xac/week0_starter_network_analysis.git\n",
        "!cd week0_starter_network_analysis"
      ],
      "metadata": {
        "id": "Pe4WFH1i4dF0"
      },
      "execution_count": null,
      "outputs": []
    },
    {
      "cell_type": "code",
      "source": [
        "# Installing the required libraries, although colab has already installed most of them\n",
        "# !pip install -r week0_starter_news_correlation_analysis/requirements.txt"
      ],
      "metadata": {
        "id": "BOiZPIsR4z-t"
      },
      "execution_count": null,
      "outputs": []
    },
    {
      "cell_type": "markdown",
      "source": [
        "### Mounting current working colab with our drive"
      ],
      "metadata": {
        "id": "LaTXU0ZaBxhe"
      }
    },
    {
      "cell_type": "code",
      "source": [
        "# Mount drive\n",
        "from google.colab import drive\n",
        "drive.mount('/content/drive')"
      ],
      "metadata": {
        "id": "LnnOLBaYB4an"
      },
      "execution_count": null,
      "outputs": []
    },
    {
      "cell_type": "code",
      "source": [
        "# Check if the code is running in Google Colab and return the appropriate base directory path\n",
        "def get_base_directory():\n",
        "    \"\"\"\n",
        "    Returns the base directory path based on the environment.\n",
        "\n",
        "    If running in Google Colab, returns '/content/', otherwise returns an empty string.\n",
        "    \"\"\"\n",
        "    try:\n",
        "        import google.colab\n",
        "        return '/content/week0_starter_news_correlation_analysis'\n",
        "    except ImportError:\n",
        "        return ''\n",
        "\n",
        "# use our base directory\n",
        "base_directory = get_base_directory()\n",
        "# print(\"Base directory:\", base_directory)"
      ],
      "metadata": {
        "colab": {
          "base_uri": "https://localhost:8080/"
        },
        "id": "Efai5RLw7csB",
        "outputId": "09f57930-19da-4e25-860a-b9f6eab3a6f7"
      },
      "execution_count": null,
      "outputs": [
        {
          "output_type": "stream",
          "name": "stdout",
          "text": [
            "Base directory: /content/week0_starter_news_correlation_analysis\n"
          ]
        }
      ]
    },
    {
      "cell_type": "code",
      "source": [
        "# CONSTANT VARIABLES\n",
        "BASE_DIR = get_base_directory()\n",
        "DATASET_DIR = '/dataset/'\n",
        "\n",
        "# Path to the destination directory of extracted zip files\n",
        "EXTRACT_FILE_PATH = '/content/extracted_data/'\n",
        "\n",
        "# Dataset filepath on drive\n",
        "DATA_ZIP_FILE_PATH = '/content/drive/MyDrive/dataset/data.csv.zip'\n",
        "DOMAINS_LOCATIONZIP_FILE_PATH = '/content/drive/MyDrive/dataset/domains_location.csv'\n",
        "RAW_DATA_ZIP_FILE_PATH = '/content/drive/MyDrive/dataset/raw_data.zip'\n",
        "TRAFFIC_DATA_ZIP_FILE_PATH = '/content/drive/MyDrive/dataset/traffic_data.zip'"
      ],
      "metadata": {
        "id": "bGQmi_EHBARf"
      },
      "execution_count": null,
      "outputs": []
    },
    {
      "cell_type": "markdown",
      "source": [
        "### Lets get started with importing Libraries and extracting our dataset"
      ],
      "metadata": {
        "id": "AldGHOTuAlm8"
      }
    },
    {
      "cell_type": "code",
      "source": [
        "# Lets import the necessary libraries for our EDA\n",
        "import pandas as pd\n",
        "import matplotlib.pyplot as plt\n",
        "import seaborn as sns"
      ],
      "metadata": {
        "id": "ba9M_fby-UJN"
      },
      "execution_count": null,
      "outputs": []
    },
    {
      "cell_type": "code",
      "source": [
        "# Import our datasets using function defined in our src/util module\n",
        "from week0_starter_news_correlation_analysis.src.utils import unzip_file\n",
        "\n",
        "# Unzip the .csv files\n",
        "data_extracted_files = unzip_file(DATA_ZIP_FILE_PATH, EXTRACT_FILE_PATH)[0]\n",
        "# raw_data_extracted_files = unzip_file(RAW_DATA_ZIP_FILE_PATH, EXTRACT_FILE_PATH)[0]\n",
        "traffic_data_extracted_files = unzip_file(TRAFFIC_DATA_ZIP_FILE_PATH, EXTRACT_FILE_PATH)[0]"
      ],
      "metadata": {
        "colab": {
          "base_uri": "https://localhost:8080/"
        },
        "id": "-hoxsmmhAjui",
        "outputId": "8b9a6b32-71d3-48dc-d3c3-ae9546b49fb0"
      },
      "execution_count": null,
      "outputs": [
        {
          "output_type": "stream",
          "name": "stdout",
          "text": [
            "Extraction complete.\n",
            "Extraction complete.\n"
          ]
        }
      ]
    },
    {
      "cell_type": "code",
      "source": [
        "# Lets also move the domain_location.csv file from drive into the extracted_data directory using shutil util\n",
        "# import shutil\n",
        "\n",
        "# SOURCE_FILE_PATH = '/content/drive/MyDrive/dataset/domains_location.csv'\n",
        "# DESTINATION_FILE_PATH = '/content/extracted_data/domains_location.csv'\n",
        "# domains_location_file_path = 'domains_location.csv'\n",
        "# shutil.move(SOURCE_FILE_PATH, DESTINATION_FILE_PATH)"
      ],
      "metadata": {
        "id": "kbmwqlEfAw6W"
      },
      "execution_count": null,
      "outputs": []
    },
    {
      "cell_type": "markdown",
      "source": [
        "### Change dataset into pandas DataFrame"
      ],
      "metadata": {
        "id": "n6uiTcpyIn1f"
      }
    },
    {
      "cell_type": "code",
      "source": [
        "# Load the datasets into pandas dataframes\n",
        "data_df = pd.read_csv(EXTRACT_FILE_PATH + data_extracted_files)\n",
        "# raw_data_df = pd.read_csv(EXTRACT_FILE_PATH + raw_data_extracted_files)\n",
        "domains_location_df = pd.read_csv(EXTRACT_FILE_PATH + domains_location_file_path)\n",
        "traffic_data_df = pd.read_csv(EXTRACT_FILE_PATH + traffic_data_extracted_files)"
      ],
      "metadata": {
        "id": "1vhx2FQXIgWL"
      },
      "execution_count": null,
      "outputs": []
    },
    {
      "cell_type": "markdown",
      "source": [
        "let's start exploring the data by looking at the first few rows and checking the data types."
      ],
      "metadata": {
        "id": "GMAbTzZFJpDR"
      }
    },
    {
      "cell_type": "code",
      "source": [
        "# Display the first few rows of each dataframe\n",
        "print(\"Data dataframe:\")\n",
        "print(data_df.head())\n",
        "print(\"\\nDomains Location dataframe:\")\n",
        "print(domains_location_df.head())\n",
        "print(\"\\nTraffic Data dataframe:\")\n",
        "print(traffic_data_df.head())"
      ],
      "metadata": {
        "colab": {
          "base_uri": "https://localhost:8080/"
        },
        "id": "6UCrE2-RJOGG",
        "outputId": "eeee35cf-0969-4fca-8b92-ab66476a5e36"
      },
      "execution_count": null,
      "outputs": [
        {
          "output_type": "stream",
          "name": "stdout",
          "text": [
            "Data dataframe:\n",
            "   article_id source_id     source_name  \\\n",
            "0       81664       NaN          Forbes   \n",
            "1       81667       NaN             CNA   \n",
            "2       81694      time            Time   \n",
            "3       81695       NaN        Phys.Org   \n",
            "4       81703       NaN  Digital Trends   \n",
            "\n",
            "                                              author  \\\n",
            "0  Elizabeth Brownfield, Contributor, \\n Elizabet...   \n",
            "1                                                NaN   \n",
            "2                              Christina Larson / AP   \n",
            "3                                       Sara Schmidt   \n",
            "4                                       Jason Struss   \n",
            "\n",
            "                                               title  \\\n",
            "0  superstar chef yannick alléno brings refined f...   \n",
            "1  nice claim top spot in ligue 1 with late win a...   \n",
            "2  amphibians are the world’s most vulnerable spe...   \n",
            "3              image: rusty red waters in madagascar   \n",
            "4  everything leaving max (formerly hbo max) in n...   \n",
            "\n",
            "                                         description  \\\n",
            "0  Now open in Mayfair at Four Seasons Hotel Lond...   \n",
            "1  Nice moved into provisional first place in the...   \n",
            "2  The world’s frogs, salamanders, newts, and oth...   \n",
            "3  Iron-rich sediment colors the red-orange water...   \n",
            "4  From Gangs of London to Fear the Walking Dead ...   \n",
            "\n",
            "                                                 url  \\\n",
            "0  https://www.forbes.com/sites/elizabethbrownfie...   \n",
            "1  https://www.channelnewsasia.com/sport/nice-cla...   \n",
            "2  https://time.com/6320467/amphibians-most-vulne...   \n",
            "3  https://phys.org/news/2023-10-image-rusty-red-...   \n",
            "4  https://www.digitaltrends.com/movies/everythin...   \n",
            "\n",
            "                                        url_to_image  \\\n",
            "0  https://imageio.forbes.com/specials-images/ima...   \n",
            "1  https://onecms-res.cloudinary.com/image/upload...   \n",
            "2  https://api.time.com/wp-content/uploads/2023/1...   \n",
            "3  https://scx2.b-cdn.net/gfx/news/2023/image-rus...   \n",
            "4  https://www.digitaltrends.com/wp-content/uploa...   \n",
            "\n",
            "                 published_at  \\\n",
            "0  2023-11-01 03:27:21.000000   \n",
            "1  2023-10-27 21:28:48.000000   \n",
            "2  2023-10-04 17:36:18.000000   \n",
            "3  2023-10-31 18:04:02.000000   \n",
            "4  2023-10-23 23:09:18.000000   \n",
            "\n",
            "                                             content    category  \\\n",
            "0  Pavyllon London, at Four Seasons Hotel London ...      Monaco   \n",
            "1  Nice moved into provisional first place in the...      Monaco   \n",
            "2  The worlds frogs, salamanders, newts and other...  Madagascar   \n",
            "3  Iron-rich sediment colors the red-orange water...  Madagascar   \n",
            "4  Everything ends. No, I’m not having an existen...  Madagascar   \n",
            "\n",
            "                                             article title_sentiment  \n",
            "0  pavyllon london, at four seasons hotel london ...         Neutral  \n",
            "1  nice moved into provisional first place in the...        Positive  \n",
            "2  the world’s frogs, salamanders, newts and othe...        Negative  \n",
            "3  iron-rich sediment colors the red-orange water...         Neutral  \n",
            "4  everything ends. no, i’m not having an existen...         Neutral  \n",
            "\n",
            "Domains Location dataframe:\n",
            "  SourceCommonName location    Country\n",
            "0       00221.info       SG    Senegal\n",
            "1        01net.com       FR     France\n",
            "2         01net.it       IT      Italy\n",
            "3      0223.com.ar       AR  Argentina\n",
            "4     022china.com       CH      China\n",
            "\n",
            "Traffic Data dataframe:\n",
            "   GlobalRank  TldRank         Domain  TLD  RefSubNets   RefIPs  \\\n",
            "0           1        1     google.com  com      471274  2151358   \n",
            "1           2        2   facebook.com  com      465424  2250631   \n",
            "2           3        3    youtube.com  com      420579  1852995   \n",
            "3           4        4    twitter.com  com      404985  1757127   \n",
            "4           5        5  instagram.com  com      364746  1598085   \n",
            "\n",
            "      IDN_Domain IDN_TLD  PrevGlobalRank  PrevTldRank  PrevRefSubNets  \\\n",
            "0     google.com     com               1            1          471248   \n",
            "1   facebook.com     com               2            2          465297   \n",
            "2    youtube.com     com               3            3          420483   \n",
            "3    twitter.com     com               4            4          404998   \n",
            "4  instagram.com     com               5            5          364618   \n",
            "\n",
            "   PrevRefIPs  \n",
            "0     2147402  \n",
            "1     2247135  \n",
            "2     1848940  \n",
            "3     1753939  \n",
            "4     1594892  \n"
          ]
        }
      ]
    },
    {
      "cell_type": "code",
      "source": [
        "# Check the data types of each column\n",
        "print(\"\\nData dataframe info:\")\n",
        "print(data_df.info())\n",
        "print(\"\\nDomains Location dataframe info:\")\n",
        "print(domains_location_df.info())\n",
        "print(\"\\nTraffic Data dataframe info:\")\n",
        "print(traffic_data_df.info())"
      ],
      "metadata": {
        "colab": {
          "base_uri": "https://localhost:8080/"
        },
        "id": "DqB86lm0nkb8",
        "outputId": "bed6bbaf-189b-440d-bf73-f9e634d5dfc2"
      },
      "execution_count": null,
      "outputs": [
        {
          "output_type": "stream",
          "name": "stdout",
          "text": [
            "\n",
            "Data dataframe info:\n",
            "<class 'pandas.core.frame.DataFrame'>\n",
            "RangeIndex: 58356 entries, 0 to 58355\n",
            "Data columns (total 13 columns):\n",
            " #   Column           Non-Null Count  Dtype \n",
            "---  ------           --------------  ----- \n",
            " 0   article_id       58356 non-null  int64 \n",
            " 1   source_id        17771 non-null  object\n",
            " 2   source_name      58356 non-null  object\n",
            " 3   author           56193 non-null  object\n",
            " 4   title            58356 non-null  object\n",
            " 5   description      58346 non-null  object\n",
            " 6   url              58356 non-null  object\n",
            " 7   url_to_image     54905 non-null  object\n",
            " 8   published_at     58356 non-null  object\n",
            " 9   content          58356 non-null  object\n",
            " 10  category         58335 non-null  object\n",
            " 11  article          58356 non-null  object\n",
            " 12  title_sentiment  58356 non-null  object\n",
            "dtypes: int64(1), object(12)\n",
            "memory usage: 5.8+ MB\n",
            "None\n",
            "\n",
            "Domains Location dataframe info:\n",
            "<class 'pandas.core.frame.DataFrame'>\n",
            "RangeIndex: 37802 entries, 0 to 37801\n",
            "Data columns (total 3 columns):\n",
            " #   Column            Non-Null Count  Dtype \n",
            "---  ------            --------------  ----- \n",
            " 0   SourceCommonName  37802 non-null  object\n",
            " 1   location          37802 non-null  object\n",
            " 2   Country           37801 non-null  object\n",
            "dtypes: object(3)\n",
            "memory usage: 886.1+ KB\n",
            "None\n",
            "\n",
            "Traffic Data dataframe info:\n",
            "<class 'pandas.core.frame.DataFrame'>\n",
            "RangeIndex: 1000000 entries, 0 to 999999\n",
            "Data columns (total 12 columns):\n",
            " #   Column          Non-Null Count    Dtype \n",
            "---  ------          --------------    ----- \n",
            " 0   GlobalRank      1000000 non-null  int64 \n",
            " 1   TldRank         1000000 non-null  int64 \n",
            " 2   Domain          1000000 non-null  object\n",
            " 3   TLD             1000000 non-null  object\n",
            " 4   RefSubNets      1000000 non-null  int64 \n",
            " 5   RefIPs          1000000 non-null  int64 \n",
            " 6   IDN_Domain      1000000 non-null  object\n",
            " 7   IDN_TLD         1000000 non-null  object\n",
            " 8   PrevGlobalRank  1000000 non-null  int64 \n",
            " 9   PrevTldRank     1000000 non-null  int64 \n",
            " 10  PrevRefSubNets  1000000 non-null  int64 \n",
            " 11  PrevRefIPs      1000000 non-null  int64 \n",
            "dtypes: int64(8), object(4)\n",
            "memory usage: 91.6+ MB\n",
            "None\n"
          ]
        }
      ]
    },
    {
      "cell_type": "markdown",
      "source": [
        "### After loading the data and checking its structure, we can proceed with the exploratory data analysis (EDA) to answer the questions provided"
      ],
      "metadata": {
        "id": "qg6NiCnnJ58e"
      }
    },
    {
      "cell_type": "markdown",
      "source": [
        "### Answer the task questions:"
      ],
      "metadata": {
        "id": "R5I65JhaKg3e"
      }
    },
    {
      "cell_type": "markdown",
      "source": [
        "##### Statistics description"
      ],
      "metadata": {
        "id": "SyWlzRfWMwUl"
      }
    },
    {
      "cell_type": "markdown",
      "source": [
        "Top and Bottom 10 Websites with the Largest Count of News Articles:"
      ],
      "metadata": {
        "id": "OYo6-XjoK61q"
      }
    },
    {
      "cell_type": "code",
      "source": [
        "# Top 10 websites with the largest count of news articles\n",
        "top_10_websites = data_df['source_name'].value_counts().head(10)\n",
        "print(\"Top 10 websites with the largest count of news articles:\")\n",
        "print(top_10_websites)\n",
        "\n",
        "# Bottom 10 websites with the smallest count of news articles\n",
        "bottom_10_websites = data_df['source_name'].value_counts().tail(10)[::-1]\n",
        "print(\"\\nBottom 10 websites with the smallest count of news articles:\")\n",
        "print(bottom_10_websites)"
      ],
      "metadata": {
        "colab": {
          "base_uri": "https://localhost:8080/"
        },
        "id": "M_GfmQj-KaBO",
        "outputId": "22eb14b1-7ac6-4ed3-9837-95a49b19bdf2"
      },
      "execution_count": null,
      "outputs": [
        {
          "output_type": "stream",
          "name": "stdout",
          "text": [
            "Top 10 websites with the largest count of news articles:\n",
            "source_name\n",
            "ETF Daily News        16746\n",
            "The Times of India     7504\n",
            "GlobeNewswire          5423\n",
            "Globalsecurity.org     3119\n",
            "Forbes                 2784\n",
            "BBC News               2113\n",
            "ABC News               2058\n",
            "Business Insider       2034\n",
            "The Punch              1800\n",
            "Al Jazeera English     1664\n",
            "Name: count, dtype: int64\n",
            "\n",
            "Bottom 10 websites with the smallest count of news articles:\n",
            "source_name\n",
            "AllAfrica - Top Africa News     20\n",
            "The Verge                      214\n",
            "CNN                            267\n",
            "Wired                          270\n",
            "Euronews                       286\n",
            "ReadWrite                      324\n",
            "Gizmodo.com                    388\n",
            "Android Central                522\n",
            "Time                           600\n",
            "CNA                            674\n",
            "Name: count, dtype: int64\n"
          ]
        }
      ]
    },
    {
      "cell_type": "markdown",
      "source": [
        "Top Websites with the highest and Bottom 10 lowest numbers of visitors traffic"
      ],
      "metadata": {
        "id": "VpTy7lpSo7Aj"
      }
    },
    {
      "cell_type": "code",
      "source": [
        "# Get the top 10 and bottom 10 websites based on their traffic ranks\n",
        "top_10_traffic_websites = traffic_data_df.head(10)\n",
        "bottom_10_traffic_websites = traffic_data_df.tail(10)[::-1]\n",
        "\n",
        "# Display the top 10 and bottom 10 websites\n",
        "print(\"Top 10 Websites with the highest numbers of visitors traffic:\")\n",
        "print(top_10_traffic_websites[['Domain', 'GlobalRank']])\n",
        "print(\"\\nBottom 10 Websites with the lowest numbers of visitors traffic:\")\n",
        "print(bottom_10_traffic_websites[['Domain', 'GlobalRank']])"
      ],
      "metadata": {
        "colab": {
          "base_uri": "https://localhost:8080/"
        },
        "id": "khSFJWt4pKZA",
        "outputId": "7ea55fca-eb31-436b-b1a1-d775432bb595"
      },
      "execution_count": null,
      "outputs": [
        {
          "output_type": "stream",
          "name": "stdout",
          "text": [
            "Top 10 Websites with the highest numbers of visitors traffic:\n",
            "                 Domain  GlobalRank\n",
            "0            google.com           1\n",
            "1          facebook.com           2\n",
            "2           youtube.com           3\n",
            "3           twitter.com           4\n",
            "4         instagram.com           5\n",
            "5          linkedin.com           6\n",
            "6             apple.com           7\n",
            "7         microsoft.com           8\n",
            "8  googletagmanager.com           9\n",
            "9         wikipedia.org          10\n",
            "\n",
            "Bottom 10 Websites with the lowest numbers of visitors traffic:\n",
            "                        Domain  GlobalRank\n",
            "999999  toyotamusicfactory.com     1000000\n",
            "999998          soderhomes.com      999999\n",
            "999997           pinkwater.com      999998\n",
            "999996             mt-lock.com      999997\n",
            "999995              kireie.com      999996\n",
            "999994         keith-baker.com      999995\n",
            "999993          irishcycle.com      999994\n",
            "999992                hmag.com      999993\n",
            "999991    exploring-africa.com      999992\n",
            "999990            eiretrip.com      999991\n"
          ]
        }
      ]
    },
    {
      "cell_type": "markdown",
      "source": [
        "Countries with Many Articles Written About Them:"
      ],
      "metadata": {
        "id": "EXvYUN8nLV9h"
      }
    },
    {
      "cell_type": "code",
      "source": [
        "from collections import Counter\n",
        "# List of country names\n",
        "country_names = ['Afghanistan', 'Albania', 'Algeria', 'Andorra', 'Angola', 'Antigua and Barbuda', 'Argentina', 'Armenia', 'Australia', 'Austria', 'Azerbaijan', 'Bahamas', 'Bahrain', 'Bangladesh', 'Barbados', 'Belarus', 'Belgium', 'Belize', 'Benin', 'Bhutan', 'Bolivia', 'Bosnia and Herzegovina', 'Botswana', 'Brazil', 'Brunei', 'Bulgaria', 'Burkina Faso', 'Burundi', 'Cabo Verde', 'Cambodia', 'Cameroon', 'Canada', 'Central African Republic', 'Chad', 'Chile', 'China', 'Colombia', 'Comoros', 'Congo', 'Costa Rica', 'Croatia', 'Cuba', 'Cyprus', 'Czech Republic', 'Denmark', 'Djibouti', 'Dominica', 'Dominican Republic', 'East Timor', 'Ecuador', 'Egypt', 'El Salvador', 'Equatorial Guinea', 'Eritrea', 'Estonia', 'Eswatini', 'Ethiopia', 'Fiji', 'Finland', 'France', 'Gabon', 'Gambia', 'Georgia', 'Germany', 'Ghana', 'Greece', 'Grenada', 'Guatemala', 'Guinea', 'Guinea-Bissau', 'Guyana', 'Haiti', 'Honduras', 'Hungary', 'Iceland', 'India', 'Indonesia', 'Iran', 'Iraq', 'Ireland', 'Israel', 'Italy', 'Jamaica', 'Japan', 'Jordan', 'Kazakhstan', 'Kenya', 'Kiribati', 'Korea', 'Kosovo', 'Kuwait', 'Kyrgyzstan', 'Laos', 'Latvia', 'Lebanon', 'Lesotho', 'Liberia', 'Libya', 'Liechtenstein', 'Lithuania', 'Luxembourg', 'Madagascar', 'Malawi', 'Malaysia', 'Maldives', 'Mali', 'Malta', 'Marshall Islands', 'Mauritania', 'Mauritius', 'Mexico', 'Micronesia', 'Moldova', 'Monaco', 'Mongolia', 'Montenegro', 'Morocco', 'Mozambique', 'Myanmar', 'Namibia', 'Nauru', 'Nepal', 'Netherlands', 'New Zealand', 'Nicaragua', 'Niger', 'Nigeria', 'North Macedonia', 'Norway', 'Oman', 'Pakistan', 'Palau', 'Palestine', 'Panama', 'Papua New Guinea', 'Paraguay', 'Peru', 'Philippines', 'Poland', 'Portugal', 'Qatar', 'Romania', 'Russia', 'Rwanda', 'Saint Kitts and Nevis', 'Saint Lucia', 'Saint Vincent and the Grenadines', 'Samoa', 'San Marino', 'Sao Tome and Principe', 'Saudi Arabia', 'Senegal', 'Serbia', 'Seychelles', 'Sierra Leone', 'Singapore', 'Slovakia', 'Slovenia', 'Solomon Islands', 'Somalia', 'South Africa', 'South Sudan', 'Spain', 'Sri Lanka', 'Sudan', 'Suriname', 'Sweden', 'Switzerland', 'Syria', 'Taiwan', 'Tajikistan', 'Tanzania', 'Thailand', 'Togo', 'Tonga', 'Trinidad and Tobago', 'Tunisia', 'Turkey', 'Turkmenistan', 'Tuvalu', 'Uganda', 'Ukraine', 'United Arab Emirates', 'United Kingdom', 'United States', 'Uruguay', 'Uzbekistan', 'Vanuatu', 'Vatican City', 'Venezuela', 'Vietnam', 'Yemen', 'Zambia', 'Zimbabwe']\n",
        "\n",
        "# Function to extract countries from the category of news articles\n",
        "def extract_countries(category):\n",
        "    # Check if the category is string\n",
        "    if not isinstance(category, str):\n",
        "        return 'not-country'\n",
        "\n",
        "    # Initialize a Counter to count occurrences of each country\n",
        "    country_counter = Counter()\n",
        "\n",
        "    # Check if any part of the category matches any country name, ignoring case\n",
        "    for country in country_names:\n",
        "        if country.lower() in category.lower():\n",
        "            # If found, increment the counter for that country\n",
        "            country_counter[country] += 1\n",
        "\n",
        "    return country_counter\n",
        "\n",
        "\n",
        "# Apply the function to extract countries from the 'content' column\n",
        "data_df['content_countries'] = data_df['category'].apply(extract_countries)\n",
        "\n",
        "# Flatten the list of countries for each article\n",
        "all_countries = [country for countries in data_df['content_countries'] for country in countries]\n",
        "\n",
        "# Count the occurrences of each country\n",
        "country_counts = Counter(all_countries)\n",
        "\n",
        "# Get the countries with the highest number of articles written about them\n",
        "top_countries = country_counts.most_common(10)\n",
        "\n",
        "# Get the countries with the least number of articles written about them\n",
        "least_countries = country_counts.most_common()[:-11:-1]\n",
        "\n",
        "\n",
        "print(\"Countries that have many articles written about them:\")\n",
        "print(top_countries)\n",
        "\n",
        "print(\"\\nCountries that have the fewest articles written about them:\")\n",
        "print(least_countries)"
      ],
      "metadata": {
        "colab": {
          "base_uri": "https://localhost:8080/"
        },
        "id": "-K9oCuuzSKk5",
        "outputId": "a0722d52-1f9e-4c77-a223-92936cad0e43"
      },
      "execution_count": null,
      "outputs": [
        {
          "output_type": "stream",
          "name": "stdout",
          "text": [
            "Countries that have many articles written about them:\n",
            "[('Canada', 2066), ('India', 1054), ('Australia', 877), ('United Kingdom', 753), ('Niger', 605), ('Ukraine', 577), ('Mexico', 553), ('United States', 481), ('Nigeria', 469), ('Germany', 459)]\n",
            "\n",
            "Countries that have the fewest articles written about them:\n",
            "[('Honduras', 3), ('Cabo Verde', 3), ('Burundi', 3), ('Andorra', 3), ('Gambia', 4), ('San Marino', 4), ('Eritrea', 6), ('Bhutan', 7), ('Vanuatu', 7), ('Liechtenstein', 8)]\n"
          ]
        }
      ]
    },
    {
      "cell_type": "markdown",
      "source": [
        "Websites Reporting About Specific Regions:"
      ],
      "metadata": {
        "id": "OBvj66-ULdoy"
      }
    },
    {
      "cell_type": "code",
      "source": [
        "# Define dictionary of lists with key as the region name and value as the list of countries in that region\n",
        "regions_countries_dict = {\n",
        "    'Africa': ['Algeria', 'Angola', 'Benin', 'Botswana', 'Burkina Faso', 'Burundi', 'Cabo Verde', 'Cameroon', 'Central African Republic', 'Chad', 'Comoros', 'Congo', 'Djibouti', 'Egypt', 'Equatorial Guinea', 'Eritrea', 'Eswatini', 'Ethiopia', 'Gabon', 'Gambia', 'Ghana', 'Guinea', 'Guinea-Bissau', 'Ivory Coast', 'Kenya', 'Lesotho', 'Liberia', 'Libya', 'Madagascar', 'Malawi', 'Mali', 'Mauritania', 'Mauritius', 'Morocco', 'Mozambique', 'Namibia', 'Niger', 'Nigeria', 'Rwanda', 'Sao Tome and Principe', 'Senegal', 'Seychelles', 'Sierra Leone', 'Somalia', 'South Africa', 'South Sudan', 'Sudan', 'Tanzania', 'Togo', 'Tunisia', 'Uganda', 'Zambia', 'Zimbabwe'],\n",
        "    'US': ['United States'],\n",
        "    'China': ['China'],\n",
        "    'EU': ['Austria', 'Belgium', 'Bulgaria', 'Croatia', 'Cyprus', 'Czech Republic', 'Denmark', 'Estonia', 'Finland', 'France', 'Germany', 'Greece', 'Hungary', 'Ireland', 'Italy', 'Latvia', 'Lithuania', 'Luxembourg', 'Malta', 'Netherlands', 'Poland', 'Portugal', 'Romania', 'Slovakia', 'Slovenia', 'Spain', 'Sweden'],\n",
        "    'Russia': ['Russia'],\n",
        "    'Ukraine': ['Ukraine'],\n",
        "    'Middle East': ['Bahrain', 'Iran', 'Iraq', 'Israel', 'Jordan', 'Kuwait', 'Lebanon', 'Oman', 'Palestine', 'Qatar', 'Saudi Arabia', 'Syria', 'Turkey', 'United Arab Emirates', 'Yemen']\n",
        "}\n",
        "\n",
        "# Function to extract the region mentioned in the content\n",
        "def extract_region(content):\n",
        "    # Iterate over the regions and check if the content mentions any country from that region\n",
        "    for region, countries in regions_countries_dict.items():\n",
        "        for country in countries:\n",
        "            if country.lower() in content.lower():\n",
        "                return region  # Return the region's name if a match is found\n",
        "\n",
        "    return 'Other'  # Return 'Other' if no region is mentioned in the content\n",
        "\n",
        "# Apply the function to extract region from the 'content' column\n",
        "data_df['region'] = data_df['content'].apply(extract_region)\n",
        "\n",
        "# Count the occurrences of each region\n",
        "region_counts = data_df['region'].value_counts()\n",
        "\n",
        "print(\"Regions mentioned in the news content:\")\n",
        "print(region_counts)"
      ],
      "metadata": {
        "colab": {
          "base_uri": "https://localhost:8080/"
        },
        "id": "RJoZsSsm1896",
        "outputId": "7b7118ca-23f2-47ef-ca1b-b274945abda8"
      },
      "execution_count": null,
      "outputs": [
        {
          "output_type": "stream",
          "name": "stdout",
          "text": [
            "Regions mentioned in the news content:\n",
            "region\n",
            "Other          47427\n",
            "Middle East     3381\n",
            "Africa          2366\n",
            "EU              1799\n",
            "Russia          1074\n",
            "US              1002\n",
            "China            935\n",
            "Ukraine          372\n",
            "Name: count, dtype: int64\n"
          ]
        }
      ]
    },
    {
      "cell_type": "markdown",
      "source": [
        "Countries with the highest number of news media organisations (represented by domains in the data)"
      ],
      "metadata": {
        "id": "zFyE9c5Ep7_7"
      }
    },
    {
      "cell_type": "code",
      "source": [
        "data_df['url'][100:149]"
      ],
      "metadata": {
        "id": "Tv6bBbqxQP7I"
      },
      "execution_count": null,
      "outputs": []
    },
    {
      "cell_type": "code",
      "source": [
        "# Function to extract domain names from URLs\n",
        "def extract_domain(url):\n",
        "    if \"://\" in url:\n",
        "        url = url.split(\"://\")[1]\n",
        "    domain = url.split(\"/\")[0]\n",
        "    if domain.startswith(\"www.\"):\n",
        "        domain = domain[4:]  # Remove \"www.\" prefix\n",
        "    return domain\n",
        "\n",
        "# Apply the function to extract domain names from the 'url' column\n",
        "data_df['domain'] = data_df['url'].apply(extract_domain)\n",
        "\n",
        "# Merge data_df with domains_location_df to get country information\n",
        "merged_df = pd.merge(data_df, domains_location_df, left_on='domain', right_on='SourceCommonName', how='left')\n",
        "\n",
        "# Count the number of news media organizations (domains) for each country\n",
        "country_counts = merged_df['Country'].value_counts()\n",
        "country_counts"
      ],
      "metadata": {
        "colab": {
          "base_uri": "https://localhost:8080/"
        },
        "id": "fyLR_47EQ1Yu",
        "outputId": "dfce2ce9-5a7f-4726-82ef-2666377a8887"
      },
      "execution_count": null,
      "outputs": [
        {
          "output_type": "execute_result",
          "data": {
            "text/plain": [
              "Country\n",
              "United States     40849\n",
              "United Kingdom     2113\n",
              "Nigeria            1820\n",
              "India              1176\n",
              "Russia             1128\n",
              "Name: count, dtype: int64"
            ]
          },
          "metadata": {},
          "execution_count": 207
        }
      ]
    },
    {
      "cell_type": "markdown",
      "source": [
        "Websites with the Highest Count of Positive, Neutral, and Negative Sentiment:"
      ],
      "metadata": {
        "id": "2cXxVvE9MW7S"
      }
    },
    {
      "cell_type": "code",
      "source": [
        "# Group the data by website domain and sentiment\n",
        "sentiment_stats = data_df.groupby(['source_name','title_sentiment']).size().unstack(fill_value=0)\n",
        "\n",
        "# Compute descriptive statistics for each sentiment category\n",
        "sentiment_stats_mean = sentiment_stats.mean(axis=1)\n",
        "sentiment_stats_median = sentiment_stats.median(axis=1)\n",
        "sentiment_stats_variance = sentiment_stats.var(axis=1)\n",
        "\n",
        "# Determine the websites with the highest counts of positive, neutral, and negative sentiment\n",
        "top_positive_websites = sentiment_stats_mean.nlargest(10)\n",
        "top_neutral_websites = sentiment_stats_median.nlargest(10)\n",
        "top_negative_websites = sentiment_stats_variance.nlargest(10)\n",
        "\n",
        "print(\"Top 10 Websites with the highest count of positive sentiment:\")\n",
        "print(top_positive_websites)\n",
        "print(\"\\nTop 10 Websites with the highest count of neutral sentiment:\")\n",
        "print(top_neutral_websites)\n",
        "print(\"\\nTop 10 Websites with the highest count of negative sentiment:\")\n",
        "print(top_negative_websites)"
      ],
      "metadata": {
        "colab": {
          "base_uri": "https://localhost:8080/"
        },
        "id": "V9chJK0UMbVj",
        "outputId": "5527784d-2e67-4011-d44a-87eb36c1a06a"
      },
      "execution_count": null,
      "outputs": [
        {
          "output_type": "stream",
          "name": "stdout",
          "text": [
            "Top 10 Websites with the highest count of positive sentiment:\n",
            "source_name\n",
            "ETF Daily News        5582.000000\n",
            "The Times of India    2501.333333\n",
            "GlobeNewswire         1807.666667\n",
            "Globalsecurity.org    1039.666667\n",
            "Forbes                 928.000000\n",
            "BBC News               704.333333\n",
            "ABC News               686.000000\n",
            "Business Insider       678.000000\n",
            "The Punch              600.000000\n",
            "Al Jazeera English     554.666667\n",
            "dtype: float64\n",
            "\n",
            "Top 10 Websites with the highest count of neutral sentiment:\n",
            "source_name\n",
            "The Times of India    1210.0\n",
            "ETF Daily News         992.0\n",
            "GlobeNewswire          905.0\n",
            "Business Insider       890.0\n",
            "BBC News               854.0\n",
            "Globalsecurity.org     747.0\n",
            "ABC News               726.0\n",
            "Al Jazeera English     706.0\n",
            "Forbes                 635.0\n",
            "The Punch              455.0\n",
            "dtype: float64\n",
            "\n",
            "Top 10 Websites with the highest count of negative sentiment:\n",
            "source_name\n",
            "ETF Daily News        6.933956e+07\n",
            "GlobeNewswire         5.592929e+06\n",
            "The Times of India    5.258660e+06\n",
            "Globalsecurity.org    1.207001e+06\n",
            "Forbes                8.014090e+05\n",
            "Marketscreener.com    3.843570e+05\n",
            "The Punch             3.254610e+05\n",
            "BBC News              3.253803e+05\n",
            "ABC News              2.789290e+05\n",
            "Al Jazeera English    2.178803e+05\n",
            "dtype: float64\n"
          ]
        }
      ]
    },
    {
      "cell_type": "markdown",
      "source": [
        "##### Visualization Analysis"
      ],
      "metadata": {
        "id": "owXW0PdBNUau"
      }
    },
    {
      "cell_type": "markdown",
      "source": [
        "Check the Distribution of Sentiments for a Particular Domain:"
      ],
      "metadata": {
        "id": "L61qQDT0MlaL"
      }
    },
    {
      "cell_type": "code",
      "source": [
        "# Group the data by website domain\n",
        "grouped_by_domain = data_df.groupby('domain')\n",
        "\n",
        "# Calculate the count of positive, neutral, and negative sentiment for each domain\n",
        "sentiment_counts = grouped_by_domain['title_sentiment'].value_counts().unstack().fillna(0)\n",
        "\n",
        "# Calculate the mean sentiment counts for each website\n",
        "mean_sentiment_counts = sentiment_counts.mean()\n",
        "\n",
        "# Top 10 websites with the highest negative sentiments\n",
        "top_10_highest_negative = sentiment_counts.drop(columns=['Neutral', 'Positive']).sort_values(by='Negative', ascending=False).head(10)\n",
        "\n",
        "print('\\nTop 10 Websites with the highest negative sentiments:')\n",
        "print(top_10_highest_negative)\n",
        "\n",
        "# Top 10 websites with the highest positive sentiments\n",
        "top_10_highest_positive = sentiment_counts.drop(columns=['Negative', 'Neutral']).sort_values(by='Positive', ascending=False).head(10)\n",
        "\n",
        "print('\\nTop 10 Websites with the highest Positive sentiments:')\n",
        "print(top_10_highest_positive)\n",
        "\n",
        "# Top 10 websites with the highest neutral sentiments\n",
        "top_10_highest_neutral = sentiment_counts.drop(columns=['Negative', 'Positive']).sort_values(by='Neutral', ascending=False).head(10)\n",
        "\n",
        "print('\\nTop 10 Websites with the highest neutral sentiments:')\n",
        "print(top_10_highest_neutral)\n",
        "\n",
        "print('\\nMean of all websites: ')\n",
        "print(sentiment_counts.mean())"
      ],
      "metadata": {
        "colab": {
          "base_uri": "https://localhost:8080/"
        },
        "id": "YG7iJl7LRggc",
        "outputId": "fe47a87c-a27e-4278-b260-543357c8a2ff"
      },
      "execution_count": null,
      "outputs": [
        {
          "output_type": "stream",
          "name": "stdout",
          "text": [
            "\n",
            "Top 10 Websites with the highest negative sentiments:\n",
            "title_sentiment               Negative\n",
            "domain                                \n",
            "businessinsider.com              890.0\n",
            "bbc.co.uk                        828.0\n",
            "globalsecurity.org               747.0\n",
            "economictimes.indiatimes.com     744.0\n",
            "abcnews.go.com                   726.0\n",
            "aljazeera.com                    706.0\n",
            "etfdailynews.com                 560.0\n",
            "timesofindia.indiatimes.com      466.0\n",
            "punchng.com                      455.0\n",
            "rt.com                           403.0\n",
            "\n",
            "Top 10 Websites with the highest Positive sentiments:\n",
            "title_sentiment               Positive\n",
            "domain                                \n",
            "etfdailynews.com                 992.0\n",
            "economictimes.indiatimes.com     932.0\n",
            "globenewswire.com                905.0\n",
            "forbes.com                       635.0\n",
            "digitaltrends.com                406.0\n",
            "androidcentral.com               272.0\n",
            "businessinsider.com              237.0\n",
            "timesofindia.indiatimes.com      213.0\n",
            "boingboing.net                   170.0\n",
            "marketscreener.com               153.0\n",
            "\n",
            "Top 10 Websites with the highest neutral sentiments:\n",
            "title_sentiment               Neutral\n",
            "domain                               \n",
            "etfdailynews.com              15194.0\n",
            "globenewswire.com              4491.0\n",
            "economictimes.indiatimes.com   3634.0\n",
            "globalsecurity.org             2255.0\n",
            "forbes.com                     1933.0\n",
            "timesofindia.indiatimes.com    1515.0\n",
            "punchng.com                    1229.0\n",
            "abcnews.go.com                 1193.0\n",
            "marketscreener.com             1167.0\n",
            "bbc.co.uk                      1135.0\n",
            "\n",
            "Mean of all websites: \n",
            "title_sentiment\n",
            "Negative     276.757576\n",
            "Neutral     1300.787879\n",
            "Positive     190.818182\n",
            "dtype: float64\n"
          ]
        }
      ]
    },
    {
      "cell_type": "code",
      "source": [
        "# Calculate the global news sentiment distribution\n",
        "global_sentiment_distribution = data_df['title_sentiment'].value_counts(normalize=True)\n",
        "\n",
        "# Create a pie chart of the global sentiment distribution\n",
        "plt.figure(figsize=(6, 6))\n",
        "plt.pie(global_sentiment_distribution, labels=['Positive', 'Neutral', 'Negative'], autopct='%1.1f%%')\n",
        "plt.title('Global News Sentiment Distribution')\n",
        "plt.show()\n"
      ],
      "metadata": {
        "colab": {
          "base_uri": "https://localhost:8080/",
          "height": 521
        },
        "id": "AMBcssY2Hh-N",
        "outputId": "6bbf5c73-3090-44dd-d025-2e98689d6ca3"
      },
      "execution_count": null,
      "outputs": [
        {
          "output_type": "display_data",
          "data": {
            "text/plain": [
              "<Figure size 600x600 with 1 Axes>"
            ],
            "image/png": "[encoded data removed]"
          },
          "metadata": {}
        }
      ]
    },
    {
      "cell_type": "code",
      "source": [
        "# Create a bar chart of the global sentiment distribution\n",
        "plt.figure(figsize=(8, 4))\n",
        "sns.barplot(x=global_sentiment_distribution.index, y=global_sentiment_distribution.values)\n",
        "plt.title('Global News Sentiment Distribution')\n",
        "plt.xlabel('Sentiment')\n",
        "plt.ylabel('Proportion')\n",
        "plt.show()"
      ],
      "metadata": {
        "colab": {
          "base_uri": "https://localhost:8080/",
          "height": 410
        },
        "id": "UKDbX_F8Hz2r",
        "outputId": "c631ae0e-8c4e-426a-f852-2a2d70f34cb5"
      },
      "execution_count": null,
      "outputs": [
        {
          "output_type": "display_data",
          "data": {
            "text/plain": [
              "<Figure size 800x400 with 1 Axes>"
            ],
            "image/png": "[encoded data removed]"
          },
          "metadata": {}
        }
      ]
    },
    {
      "cell_type": "markdown",
      "source": [
        "Sentiment distribution for the top 10 websites with most visitors traffic"
      ],
      "metadata": {
        "id": "i_CAv740JOys"
      }
    },
    {
      "cell_type": "code",
      "source": [
        "# Select the top 10 domains by visitors traffic\n",
        "top_10_domains = merged_df['source_name'].value_counts().head(10).index\n",
        "\n",
        "# Plot the distribution of sentiments for the top 10 domains\n",
        "plt.figure(figsize=(12, 6))\n",
        "for domain in top_10_domains:\n",
        "    sns.histplot(data=data_df[data_df['source_name'] == domain], x='title_sentiment', kde=True, label=domain)\n",
        "plt.title('Distribution of Sentiments for Top 10 Domains')\n",
        "plt.xlabel('Sentiment')\n",
        "plt.ylabel('Frequency')\n",
        "plt.legend()\n",
        "plt.show()"
      ],
      "metadata": {
        "colab": {
          "base_uri": "https://localhost:8080/",
          "height": 564
        },
        "id": "y2e4vMQJMpeQ",
        "outputId": "6689898e-7523-42ae-96fd-fdd6bb36de94"
      },
      "execution_count": null,
      "outputs": [
        {
          "output_type": "display_data",
          "data": {
            "text/plain": [
              "<Figure size 1200x600 with 1 Axes>"
            ],
            "image/png": "[encoded data removed]"
          },
          "metadata": {}
        }
      ]
    },
    {
      "cell_type": "markdown",
      "source": [
        "Compare Content Metadata Across Sites:"
      ],
      "metadata": {
        "id": "NCgvWkMYNYBD"
      }
    },
    {
      "cell_type": "code",
      "source": [
        "# Calculate the raw content lengths and the number of words in the title\n",
        "data_df['message_length'] = data_df['content'].str.len()\n",
        "data_df['title_word_count'] = data_df['title'].str.split().apply(len)\n",
        "\n",
        "# Group the data by website domain\n",
        "grouped_by_domain = data_df.groupby('domain')\n",
        "\n",
        "# Calculate summary statistics for raw message lengths and title word counts for each domain\n",
        "domain_stats = grouped_by_domain.agg({\n",
        "    'message_length': ['mean', 'median', 'var'],\n",
        "    'title_word_count': ['mean', 'median', 'var']\n",
        "})\n",
        "\n",
        "# Display the summary statistics DataFrame\n",
        "print(\"Summary Statistics for Content Metadata Across Sites:\")\n",
        "print(domain_stats)\n"
      ],
      "metadata": {
        "colab": {
          "base_uri": "https://localhost:8080/"
        },
        "id": "ooBkB-sPK-j2",
        "outputId": "4ea1b7a7-d3f3-4ec8-8353-2513591a3d3f"
      },
      "execution_count": null,
      "outputs": [
        {
          "output_type": "stream",
          "name": "stdout",
          "text": [
            "Summary Statistics for Content Metadata Across Sites:\n",
            "                                 message_length                      \\\n",
            "                                           mean median          var   \n",
            "domain                                                                \n",
            "abcnews.go.com                       213.101069  214.0    45.436547   \n",
            "aljazeera.com                        212.943510  213.0    16.847078   \n",
            "allafrica.com                        213.350000  213.0     0.344737   \n",
            "androidcentral.com                   213.961686  214.0     0.178951   \n",
            "bbc.co.uk                            212.382874  213.0   102.764217   \n",
            "bbc.com                              213.074074  213.0     0.694444   \n",
            "boingboing.net                       213.502104  214.0     0.430122   \n",
            "businessinsider.com                  213.211898  213.0     0.329401   \n",
            "channelnewsasia.com                  213.378834  214.0     1.590519   \n",
            "cnalifestyle.channelnewsasia.com     213.166667  213.0     0.617647   \n",
            "cnaluxury.channelnewsasia.com        213.750000  214.0     0.250000   \n",
            "cnn.com                              213.573034  214.0     0.441075   \n",
            "deadline.com                         213.456009  214.0     1.157032   \n",
            "digitaltrends.com                    213.608418  214.0     0.376481   \n",
            "economictimes.indiatimes.com         213.315443  214.0    35.742444   \n",
            "etfdailynews.com                     213.936462  214.0     0.125315   \n",
            "euronews.com                         213.153846  213.0     0.256950   \n",
            "forbes.com                           212.930316  213.0     1.275056   \n",
            "gizmodo.com                          213.817010  214.0     0.242914   \n",
            "globalsecurity.org                   212.532542  212.0     1.138052   \n",
            "globenewswire.com                    213.003872  214.0   103.879550   \n",
            "ibtimes.com                          213.465617  214.0     0.872573   \n",
            "indianexpress.com                    213.949830  214.0     0.103864   \n",
            "marketscreener.com                   210.305433  213.0   304.998486   \n",
            "npr.org                              204.136595  212.0   454.985404   \n",
            "phys.org                             213.742676  214.0     0.411545   \n",
            "punchng.com                          213.500556  214.0     0.463591   \n",
            "readwrite.com                        213.898148  214.0     0.240368   \n",
            "rt.com                               213.474291  214.0    34.157280   \n",
            "theverge.com                         212.228972  212.0     0.599908   \n",
            "time.com                             213.795000  214.0     1.649057   \n",
            "timesofindia.indiatimes.com           71.124430   59.0  1324.410867   \n",
            "wired.com                            213.907407  214.0     0.307380   \n",
            "\n",
            "                                 title_word_count                    \n",
            "                                             mean median        var  \n",
            "domain                                                               \n",
            "abcnews.go.com                          13.480078   14.0   6.889491  \n",
            "aljazeera.com                           10.158654   10.0   3.485337  \n",
            "allafrica.com                            9.950000   10.0   4.365789  \n",
            "androidcentral.com                      12.243295   12.0   8.322652  \n",
            "bbc.co.uk                                9.362205    9.0   3.155794  \n",
            "bbc.com                                  8.839506    8.0   2.961420  \n",
            "boingboing.net                          12.150070   12.0  16.200762  \n",
            "businessinsider.com                     18.022616   18.0  26.858318  \n",
            "channelnewsasia.com                     10.832822   10.5   6.425158  \n",
            "cnalifestyle.channelnewsasia.com        15.333333   14.5  13.882353  \n",
            "cnaluxury.channelnewsasia.com           11.000000   11.0   5.333333  \n",
            "cnn.com                                 13.235955   13.0  13.444116  \n",
            "deadline.com                            15.516094   15.0  24.756991  \n",
            "digitaltrends.com                       10.858418   11.0   4.596787  \n",
            "economictimes.indiatimes.com            12.372505   12.0  11.776076  \n",
            "etfdailynews.com                        10.767945   11.0   5.944594  \n",
            "euronews.com                            11.678322   12.0   7.082125  \n",
            "forbes.com                              10.323635   10.0   7.565004  \n",
            "gizmodo.com                             10.461340   10.0   5.882222  \n",
            "globalsecurity.org                      12.125361   11.0  24.903779  \n",
            "globenewswire.com                       15.456021   15.0  38.450620  \n",
            "ibtimes.com                              9.658658    9.0   5.021034  \n",
            "indianexpress.com                       14.100340   14.0  17.576306  \n",
            "marketscreener.com                      11.414097   10.0  23.405180  \n",
            "npr.org                                 11.771662   12.0   8.600870  \n",
            "phys.org                                11.306413   11.0  10.301441  \n",
            "punchng.com                              8.215556    8.0   3.822326  \n",
            "readwrite.com                            8.944444    9.0   4.046440  \n",
            "rt.com                                   8.542553    8.0   5.556307  \n",
            "theverge.com                            10.939252   11.0   8.339015  \n",
            "time.com                                11.163333   11.0   7.782960  \n",
            "timesofindia.indiatimes.com             10.595260   10.0   9.777743  \n",
            "wired.com                                9.911111   10.0   5.404709  \n"
          ]
        }
      ]
    },
    {
      "cell_type": "markdown",
      "source": [
        "Impact of Frequent News Reporting and Sentiment to the Website’s Global Ranking:"
      ],
      "metadata": {
        "id": "zfRCfUYkNgIu"
      }
    },
    {
      "cell_type": "code",
      "source": [
        "\n",
        "domain_sorted = data_df['domain'].value_counts()\n",
        "# Extract the domain counts\n",
        "domain_sorted_counts = domain_sorted.values\n",
        "# Extract the domain values\n",
        "domains = domain_sorted.index\n",
        "\n",
        "global_ranks = []\n",
        "for domain in domains:\n",
        "    if domain in traffic_data_df['Domain'].values:\n",
        "      global_rank = traffic_data_df.loc[traffic_data_df['Domain'] == domain, 'GlobalRank'].iloc[0]\n",
        "      global_ranks.append(global_rank)\n",
        "    else:\n",
        "      global_ranks.append(0)\n",
        "\n",
        "from matplotlib.patches import Patch\n",
        "\n",
        "# Step 1: Group the data by the domain and count the occurrences of each sentiment category\n",
        "sentiment_counts_by_domain = data_df.groupby('domain')['title_sentiment'].value_counts()\n",
        "\n",
        "# Step 2: Find the most frequent sentiment for each domain\n",
        "most_frequent_sentiment_by_domain = sentiment_counts_by_domain.groupby(level=0).idxmax().apply(lambda x: x[1]).reset_index(name='most_frequent_sentiment')\n",
        "\n",
        "# Step 3: Map the most frequent sentiment values to corresponding colors\n",
        "def map_sentiment_to_color(sentiment):\n",
        "    if sentiment == 'Negative':\n",
        "        return 'red'  # Negative sentiment\n",
        "    elif sentiment == 'Neutral':\n",
        "        return 'gray'  # Neutral sentiment\n",
        "    elif sentiment == 'Positive':\n",
        "        return 'green'  # Positive sentiment\n",
        "    else:\n",
        "        return 'black'  # Handle unknown values\n",
        "\n",
        "# Apply the function to create a new column with color representations of sentiment\n",
        "most_frequent_sentiment_by_domain['color'] = most_frequent_sentiment_by_domain['most_frequent_sentiment'].apply(map_sentiment_to_color)\n",
        "\n",
        "# Create a legend for the color mapping\n",
        "legend_elements = [\n",
        "    Patch(facecolor='green', edgecolor='black', label='Positive'),\n",
        "    Patch(facecolor='gray', edgecolor='black', label='Neutral'),\n",
        "    Patch(facecolor='red', edgecolor='black', label='Negative')\n",
        "]\n",
        "\n",
        "# Step 4: Plot the scatter plot with colors representing the most frequent sentiment categories and add the legend\n",
        "plt.figure(figsize=(12, 8))\n",
        "plt.scatter(domain_sorted_counts, global_ranks, color=most_frequent_sentiment_by_domain['color'])\n",
        "plt.xlabel('Total Number of Reports by Website')\n",
        "plt.ylabel('Global Rank')\n",
        "plt.title('Scatter Plot of Total Reports vs. Global Ranking')\n",
        "plt.grid(True)\n",
        "plt.legend(handles=legend_elements)\n",
        "plt.show()\n"
      ],
      "metadata": {
        "id": "vriu6EakibiB",
        "colab": {
          "base_uri": "https://localhost:8080/",
          "height": 441
        },
        "outputId": "30f5d456-de55-440b-b855-d67e0e001ddb"
      },
      "execution_count": 287,
      "outputs": [
        {
          "output_type": "display_data",
          "data": {
            "text/plain": [
              "<Figure size 1200x800 with 1 Axes>"
            ],
            "image/png": "[encoded data removed]"
          },
          "metadata": {}
        }
      ]
    }
  ]
}